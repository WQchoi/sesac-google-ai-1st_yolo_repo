{
 "cells": [
  {
   "cell_type": "code",
   "execution_count": 48,
   "id": "92721923-0aff-49e2-a9a1-e5c5f73edf75",
   "metadata": {
    "tags": []
   },
   "outputs": [
    {
     "name": "stdout",
     "output_type": "stream",
     "text": [
      "shell-init: error retrieving current directory: getcwd: cannot access parent directories: No such file or directory\n",
      "mkdir: cannot create directory ‘dataset’: No such file or directory\n"
     ]
    }
   ],
   "source": [
    "!mkdir dataset"
   ]
  },
  {
   "cell_type": "code",
   "execution_count": 49,
   "id": "2d38e61e-f306-4c08-a33f-0b2868980fa9",
   "metadata": {
    "tags": []
   },
   "outputs": [
    {
     "name": "stdout",
     "output_type": "stream",
     "text": [
      "shell-init: error retrieving current directory: getcwd: cannot access parent directories: No such file or directory\n",
      "mkdir: cannot create directory ‘myData’: No such file or directory\n"
     ]
    }
   ],
   "source": [
    "!mkdir myData"
   ]
  },
  {
   "cell_type": "code",
   "execution_count": 50,
   "id": "7082e888-de1d-45fe-bc00-5ddb46c9f6d2",
   "metadata": {
    "tags": []
   },
   "outputs": [
    {
     "name": "stdout",
     "output_type": "stream",
     "text": [
      "shell-init: error retrieving current directory: getcwd: cannot access parent directories: No such file or directory\n",
      "{\"time\":\"23/11/2023 01:57:37.214301\",\"severity\":\"INFO\",\"msg\":\"Start gcsfuse/1.2.0 (Go version go1.21.0) for app \\\"\\\" using mount point: /home/jupyter/dataset\\n\"}\n",
      "daemonize.Run: readFromProcess: sub-process: mountWithArgs: mountWithStorageHandle: Mount: mount: running /usr/bin/fusermount: exit status 1\n"
     ]
    }
   ],
   "source": [
    "BUCKET_NAME='project-02-bucket'\n",
    "MOUNT_PATH ='/home/jupyter/dataset' \n",
    "!gcsfuse --implicit-dirs {BUCKET_NAME} {MOUNT_PATH}"
   ]
  },
  {
   "cell_type": "code",
   "execution_count": 4,
   "id": "f60e86ae-6eb9-4ce1-806f-d8a2d20c4252",
   "metadata": {
    "tags": []
   },
   "outputs": [
    {
     "name": "stdout",
     "output_type": "stream",
     "text": [
      "CPU times: user 16.3 s, sys: 3.25 s, total: 19.6 s\n",
      "Wall time: 5min 43s\n"
     ]
    }
   ],
   "source": [
    "%%time\n",
    "\n",
    "zipfilePath = '/home/jupyter/dataset/CCTV.zip'\n",
    "destPath = '/home/jupyter/myData'\n",
    "\n",
    "import zipfile\n",
    "import multiprocessing\n",
    "import concurrent.futures\n",
    "\n",
    "def unzip(files):\n",
    "    with lock:\n",
    "        zf.extract(files, path=destPath)\n",
    "\n",
    "\n",
    "zf = zipfile.ZipFile(zipfilePath)    \n",
    "m = multiprocessing.Manager()\n",
    "lock = m.Lock()\n",
    "\n",
    "with concurrent.futures.ProcessPoolExecutor(max_workers=None) as executor:\n",
    "    executor.map(unzip, zf.infolist())"
   ]
  },
  {
   "cell_type": "code",
   "execution_count": 51,
   "id": "837843e9-2d71-452b-bc43-1e4da82def1c",
   "metadata": {
    "tags": []
   },
   "outputs": [],
   "source": [
    "import os\n",
    "import shutil\n",
    "\n",
    "def get_all_subfolders(folder_path):\n",
    "    \n",
    "    subfolder_paths = []\n",
    "\n",
    "    for root, dirs, files in os.walk(folder_path):\n",
    "        for subfolder in dirs:\n",
    "            subfolder_path = os.path.join(root, subfolder)\n",
    "            subfolder_paths.append(subfolder_path)\n",
    "\n",
    "    return subfolder_paths\n",
    "\n",
    "def move_contents(subfolder, dest_folder):\n",
    "\n",
    "    if not os.path.exists(dest_folder):\n",
    "        os.makedirs(dest_folder)\n",
    "\n",
    "    for src_folder in subfolder:\n",
    "        contents = os.listdir(src_folder)\n",
    "\n",
    "        for content in contents:\n",
    "            src_path = os.path.join(src_folder, content)\n",
    "            dest_path = os.path.join(dest_folder, content)\n",
    "\n",
    "            if os.path.isdir(src_path):\n",
    "                shutil.copytree(src_path, dest_path)\n",
    "            else:\n",
    "                shutil.move(src_path, dest_path)\n",
    "\n",
    "\n",
    "if __name__ == \"__main__\":\n",
    "    \n",
    "    target_folder = \"/home/jupyter/myData/CCTV/train1\"\n",
    "    subfolders = get_all_subfolders(target_folder)\n",
    "    dest_folder = \"/home/jupyter/myData/train/images\"\n",
    "\n",
    "    move_contents(subfolders, dest_folder)"
   ]
  },
  {
   "cell_type": "code",
   "execution_count": 52,
   "id": "a11e67c3-ee11-46cd-858e-874ae33efad9",
   "metadata": {
    "tags": []
   },
   "outputs": [],
   "source": [
    "def get_all_subfolders(folder_path):\n",
    "\n",
    "    subfolder_paths = []\n",
    "\n",
    "    for root, dirs, files in os.walk(folder_path):\n",
    "        for subfolder in dirs:\n",
    "            subfolder_path = os.path.join(root, subfolder)\n",
    "            subfolder_paths.append(subfolder_path)\n",
    "\n",
    "    return subfolder_paths\n",
    "\n",
    "def move_contents(subfolder, dest_folder):\n",
    "\n",
    "    if not os.path.exists(dest_folder):\n",
    "        os.makedirs(dest_folder)\n",
    "\n",
    "    for src_folder in subfolder:\n",
    "        contents = os.listdir(src_folder)\n",
    "\n",
    "        for content in contents:\n",
    "            src_path = os.path.join(src_folder, content)\n",
    "            dest_path = os.path.join(dest_folder, content)\n",
    "\n",
    "            if os.path.isdir(src_path):\n",
    "                shutil.copytree(src_path, dest_path)\n",
    "            else:\n",
    "                shutil.move(src_path, dest_path)\n",
    "\n",
    "\n",
    "if __name__ == \"__main__\":\n",
    "    \n",
    "    target_folder = \"/home/jupyter/myData/CCTV/train2\"\n",
    "    subfolders = get_all_subfolders(target_folder)\n",
    "    dest_folder = \"/home/jupyter/myData/train/labels\"\n",
    "\n",
    "    move_contents(subfolders, dest_folder)"
   ]
  },
  {
   "cell_type": "code",
   "execution_count": 53,
   "id": "99e58bc0-335f-403b-99a4-e14b9dd80858",
   "metadata": {
    "tags": []
   },
   "outputs": [],
   "source": [
    "import os\n",
    "import shutil\n",
    "\n",
    "def get_all_subfolders(folder_path):\n",
    "\n",
    "    subfolder_paths = []\n",
    "\n",
    "    for root, dirs, files in os.walk(folder_path):\n",
    "        for subfolder in dirs:\n",
    "            subfolder_path = os.path.join(root, subfolder)\n",
    "            subfolder_paths.append(subfolder_path)\n",
    "\n",
    "    return subfolder_paths\n",
    "\n",
    "def move_contents(subfolder, dest_folder):\n",
    "\n",
    "    if not os.path.exists(dest_folder):\n",
    "        os.makedirs(dest_folder)\n",
    "\n",
    "    for src_folder in subfolder:\n",
    "        contents = os.listdir(src_folder)\n",
    "\n",
    "        for content in contents:\n",
    "            src_path = os.path.join(src_folder, content)\n",
    "            dest_path = os.path.join(dest_folder, content)\n",
    "\n",
    "            if os.path.isdir(src_path):\n",
    "                shutil.copytree(src_path, dest_path)\n",
    "            else:\n",
    "                shutil.move(src_path, dest_path)\n",
    "\n",
    "\n",
    "if __name__ == \"__main__\":\n",
    "    \n",
    "    target_folder = \"/home/jupyter/myData/CCTV/val1\"\n",
    "    subfolders = get_all_subfolders(target_folder)\n",
    "    dest_folder = \"/home/jupyter/myData/val/images\"\n",
    "\n",
    "    move_contents(subfolders, dest_folder)"
   ]
  },
  {
   "cell_type": "code",
   "execution_count": 54,
   "id": "55e6f1a2-f395-4471-80e5-f1621cda90c2",
   "metadata": {
    "tags": []
   },
   "outputs": [],
   "source": [
    "def get_all_subfolders(folder_path):\n",
    "\n",
    "    subfolder_paths = []\n",
    "\n",
    "    for root, dirs, files in os.walk(folder_path):\n",
    "        for subfolder in dirs:\n",
    "            subfolder_path = os.path.join(root, subfolder)\n",
    "            subfolder_paths.append(subfolder_path)\n",
    "\n",
    "    return subfolder_paths\n",
    "\n",
    "def move_contents(subfolder, dest_folder):\n",
    "\n",
    "    if not os.path.exists(dest_folder):\n",
    "        os.makedirs(dest_folder)\n",
    "\n",
    "    for src_folder in subfolder:\n",
    "        contents = os.listdir(src_folder)\n",
    "\n",
    "        for content in contents:\n",
    "            src_path = os.path.join(src_folder, content)\n",
    "            dest_path = os.path.join(dest_folder, content)\n",
    "\n",
    "            if os.path.isdir(src_path):\n",
    "                shutil.copytree(src_path, dest_path)\n",
    "            else:\n",
    "                shutil.move(src_path, dest_path)\n",
    "\n",
    "\n",
    "if __name__ == \"__main__\":\n",
    "    \n",
    "    target_folder = \"/home/jupyter/myData/CCTV/val2\"\n",
    "    subfolders = get_all_subfolders(target_folder)\n",
    "    dest_folder = \"/home/jupyter/myData/val/labels\"\n",
    "\n",
    "    move_contents(subfolders, dest_folder)"
   ]
  },
  {
   "cell_type": "code",
   "execution_count": 2,
   "id": "32d4b3ee-dec4-49f0-bc03-fa0b195827a3",
   "metadata": {
    "tags": []
   },
   "outputs": [
    {
     "name": "stdout",
     "output_type": "stream",
     "text": [
      "/home/jupyter\n",
      "/home/jupyter\n"
     ]
    }
   ],
   "source": [
    "import os\n",
    "\n",
    "# '~'는 /home/jupyter\n",
    "%cd ~/\n",
    "\n",
    "# 현재 작업 디렉토리를 HOME에 저장\n",
    "HOME=os.getcwd()\n",
    "print(HOME)\n",
    "dataPath = '/home/jupyter/myData/'"
   ]
  },
  {
   "cell_type": "code",
   "execution_count": 3,
   "id": "e8e455dc-6be4-4624-90a0-778062724d79",
   "metadata": {
    "tags": []
   },
   "outputs": [],
   "source": [
    "import locale\n",
    "locale.getpreferredencoding = lambda: \"UTF-8\""
   ]
  },
  {
   "cell_type": "code",
   "execution_count": 63,
   "id": "b2bf52d1-dc8e-4fb5-b0f6-3c766654e6a0",
   "metadata": {
    "tags": []
   },
   "outputs": [
    {
     "name": "stdout",
     "output_type": "stream",
     "text": [
      "/home/jupyter\n",
      "Cloning into 'ultralytics'...\n",
      "remote: Enumerating objects: 19301, done.\u001b[K\n",
      "remote: Counting objects: 100% (485/485), done.\u001b[K\n",
      "remote: Compressing objects: 100% (310/310), done.\u001b[K\n",
      "remote: Total 19301 (delta 214), reused 350 (delta 174), pack-reused 18816\u001b[K\n",
      "Receiving objects: 100% (19301/19301), 10.81 MiB | 23.96 MiB/s, done.\n",
      "Resolving deltas: 100% (13380/13380), done.\n",
      "/home/jupyter/ultralytics\n"
     ]
    }
   ],
   "source": [
    "%cd {HOME}\n",
    "!git clone https://github.com/ultralytics/ultralytics\n",
    "%cd ultralytics"
   ]
  },
  {
   "cell_type": "code",
   "execution_count": 64,
   "id": "2ca0276f-f1b5-4dcb-8599-2b8cd72e3068",
   "metadata": {
    "tags": []
   },
   "outputs": [],
   "source": [
    "!cd ~"
   ]
  },
  {
   "cell_type": "code",
   "execution_count": 4,
   "id": "d47fba2f-bc32-4e41-85a5-9657c0855527",
   "metadata": {
    "tags": []
   },
   "outputs": [
    {
     "name": "stdout",
     "output_type": "stream",
     "text": [
      "/home/jupyter/myData/train/images /home/jupyter/myData/val/images /home/jupyter/myData/train/labels /home/jupyter/myData/val/labels\n"
     ]
    }
   ],
   "source": [
    "import os\n",
    "from glob import glob\n",
    "\n",
    "trainImagesPath = os.path.join(dataPath, 'train/images')\n",
    "validImagesPath = os.path.join(dataPath, 'val/images')\n",
    "\n",
    "trainLabelsPath = os.path.join(dataPath, 'train/labels')\n",
    "validLabelsPath = os.path.join(dataPath, 'val/labels')\n",
    "\n",
    "print(trainImagesPath, validImagesPath, trainLabelsPath, validLabelsPath)"
   ]
  },
  {
   "cell_type": "markdown",
   "id": "3de50ad1-e852-4a3b-b891-3af0e64b063e",
   "metadata": {},
   "source": [
    "## 데이터셋을 확인해 봅니다"
   ]
  },
  {
   "cell_type": "code",
   "execution_count": 69,
   "id": "dbfe637b-6378-4ac6-bc42-7de317467718",
   "metadata": {
    "tags": []
   },
   "outputs": [
    {
     "name": "stdout",
     "output_type": "stream",
     "text": [
      "24101\n",
      "23685\n"
     ]
    }
   ],
   "source": [
    "print(len(os.listdir(trainImagesPath)))\n",
    "print(len(os.listdir(trainLabelsPath)))"
   ]
  },
  {
   "cell_type": "code",
   "execution_count": 70,
   "id": "16f945af-4e12-446b-b817-e18a91b897db",
   "metadata": {
    "tags": []
   },
   "outputs": [
    {
     "name": "stdout",
     "output_type": "stream",
     "text": [
      "3333\n",
      "3334\n"
     ]
    }
   ],
   "source": [
    "print(len(os.listdir(validImagesPath)))\n",
    "print(len(os.listdir(validLabelsPath)))"
   ]
  },
  {
   "cell_type": "code",
   "execution_count": null,
   "id": "0524c004-55c8-4561-aabe-8e0bf3f4f3fc",
   "metadata": {},
   "outputs": [],
   "source": [
    "## train의 images와 labels를 비교하는 코드 별도로 노트북을 생성해서 테스트"
   ]
  },
  {
   "cell_type": "code",
   "execution_count": 5,
   "id": "318dc1e3-1982-405f-ad6a-8068d142f048",
   "metadata": {
    "tags": []
   },
   "outputs": [],
   "source": [
    "from IPython.core.magic import register_line_cell_magic\n",
    "\n",
    "@register_line_cell_magic\n",
    "def writetemplate(line, cell):\n",
    "    with open(line, 'w') as f:\n",
    "        f.write(cell.format(**globals()))"
   ]
  },
  {
   "cell_type": "code",
   "execution_count": 6,
   "id": "348a7cf0-a0f3-42c6-bd86-fe5acb20641b",
   "metadata": {
    "tags": []
   },
   "outputs": [
    {
     "data": {
      "text/plain": [
       "'/home/jupyter/myData/data.yaml'"
      ]
     },
     "execution_count": 6,
     "metadata": {},
     "output_type": "execute_result"
    }
   ],
   "source": [
    "dataYaml = os.path.join(dataPath,'data.yaml')\n",
    "dataYaml"
   ]
  },
  {
   "cell_type": "code",
   "execution_count": 7,
   "id": "b9a4a339-ec00-4aa2-ae26-e16bf8b23877",
   "metadata": {
    "tags": []
   },
   "outputs": [],
   "source": [
    "%%writetemplate {dataYaml}\n",
    "train: /home/jupyter/myData/train\n",
    "val: /home/jupyter/myData/val\n",
    "\n",
    "nc: 3\n",
    "names: ['car', 'bus', 'truck']"
   ]
  },
  {
   "cell_type": "code",
   "execution_count": 74,
   "id": "f5205863-5863-410e-b18b-86a7be01dca3",
   "metadata": {
    "tags": []
   },
   "outputs": [
    {
     "name": "stdout",
     "output_type": "stream",
     "text": [
      "Collecting ultralytics\n",
      "  Downloading ultralytics-8.0.216-py3-none-any.whl.metadata (31 kB)\n",
      "Requirement already satisfied: matplotlib>=3.3.0 in /opt/conda/lib/python3.10/site-packages (from ultralytics) (3.7.3)\n",
      "Requirement already satisfied: numpy>=1.22.2 in /opt/conda/lib/python3.10/site-packages (from ultralytics) (1.25.2)\n",
      "Requirement already satisfied: opencv-python>=4.6.0 in /opt/conda/lib/python3.10/site-packages (from ultralytics) (4.8.1.78)\n",
      "Requirement already satisfied: pillow>=7.1.2 in /opt/conda/lib/python3.10/site-packages (from ultralytics) (10.0.1)\n",
      "Requirement already satisfied: pyyaml>=5.3.1 in /opt/conda/lib/python3.10/site-packages (from ultralytics) (6.0.1)\n",
      "Requirement already satisfied: requests>=2.23.0 in /opt/conda/lib/python3.10/site-packages (from ultralytics) (2.31.0)\n",
      "Requirement already satisfied: scipy>=1.4.1 in /opt/conda/lib/python3.10/site-packages (from ultralytics) (1.11.3)\n",
      "Requirement already satisfied: torch>=1.8.0 in /opt/conda/lib/python3.10/site-packages (from ultralytics) (2.0.0+cu118)\n",
      "Requirement already satisfied: torchvision>=0.9.0 in /opt/conda/lib/python3.10/site-packages (from ultralytics) (0.15.1+cu118)\n",
      "Requirement already satisfied: tqdm>=4.64.0 in /opt/conda/lib/python3.10/site-packages (from ultralytics) (4.66.1)\n",
      "Requirement already satisfied: pandas>=1.1.4 in /opt/conda/lib/python3.10/site-packages (from ultralytics) (2.0.3)\n",
      "Requirement already satisfied: seaborn>=0.11.0 in /opt/conda/lib/python3.10/site-packages (from ultralytics) (0.12.2)\n",
      "Requirement already satisfied: psutil in /opt/conda/lib/python3.10/site-packages (from ultralytics) (5.9.3)\n",
      "Collecting py-cpuinfo (from ultralytics)\n",
      "  Downloading py_cpuinfo-9.0.0-py3-none-any.whl (22 kB)\n",
      "Collecting thop>=0.1.1 (from ultralytics)\n",
      "  Downloading thop-0.1.1.post2209072238-py3-none-any.whl (15 kB)\n",
      "Requirement already satisfied: contourpy>=1.0.1 in /opt/conda/lib/python3.10/site-packages (from matplotlib>=3.3.0->ultralytics) (1.2.0)\n",
      "Requirement already satisfied: cycler>=0.10 in /opt/conda/lib/python3.10/site-packages (from matplotlib>=3.3.0->ultralytics) (0.12.1)\n",
      "Requirement already satisfied: fonttools>=4.22.0 in /opt/conda/lib/python3.10/site-packages (from matplotlib>=3.3.0->ultralytics) (4.44.0)\n",
      "Requirement already satisfied: kiwisolver>=1.0.1 in /opt/conda/lib/python3.10/site-packages (from matplotlib>=3.3.0->ultralytics) (1.4.5)\n",
      "Requirement already satisfied: packaging>=20.0 in /opt/conda/lib/python3.10/site-packages (from matplotlib>=3.3.0->ultralytics) (23.2)\n",
      "Requirement already satisfied: pyparsing>=2.3.1 in /opt/conda/lib/python3.10/site-packages (from matplotlib>=3.3.0->ultralytics) (3.1.1)\n",
      "Requirement already satisfied: python-dateutil>=2.7 in /opt/conda/lib/python3.10/site-packages (from matplotlib>=3.3.0->ultralytics) (2.8.2)\n",
      "Requirement already satisfied: pytz>=2020.1 in /opt/conda/lib/python3.10/site-packages (from pandas>=1.1.4->ultralytics) (2023.3.post1)\n",
      "Requirement already satisfied: tzdata>=2022.1 in /opt/conda/lib/python3.10/site-packages (from pandas>=1.1.4->ultralytics) (2023.3)\n",
      "Requirement already satisfied: charset-normalizer<4,>=2 in /opt/conda/lib/python3.10/site-packages (from requests>=2.23.0->ultralytics) (3.3.2)\n",
      "Requirement already satisfied: idna<4,>=2.5 in /opt/conda/lib/python3.10/site-packages (from requests>=2.23.0->ultralytics) (3.4)\n",
      "Requirement already satisfied: urllib3<3,>=1.21.1 in /opt/conda/lib/python3.10/site-packages (from requests>=2.23.0->ultralytics) (1.26.18)\n",
      "Requirement already satisfied: certifi>=2017.4.17 in /opt/conda/lib/python3.10/site-packages (from requests>=2.23.0->ultralytics) (2023.7.22)\n",
      "Requirement already satisfied: filelock in /opt/conda/lib/python3.10/site-packages (from torch>=1.8.0->ultralytics) (3.13.1)\n",
      "Requirement already satisfied: typing-extensions in /opt/conda/lib/python3.10/site-packages (from torch>=1.8.0->ultralytics) (4.8.0)\n",
      "Requirement already satisfied: sympy in /opt/conda/lib/python3.10/site-packages (from torch>=1.8.0->ultralytics) (1.12)\n",
      "Requirement already satisfied: networkx in /opt/conda/lib/python3.10/site-packages (from torch>=1.8.0->ultralytics) (3.2.1)\n",
      "Requirement already satisfied: jinja2 in /opt/conda/lib/python3.10/site-packages (from torch>=1.8.0->ultralytics) (3.1.2)\n",
      "Requirement already satisfied: triton==2.0.0 in /opt/conda/lib/python3.10/site-packages (from torch>=1.8.0->ultralytics) (2.0.0)\n",
      "Requirement already satisfied: cmake in /opt/conda/lib/python3.10/site-packages (from triton==2.0.0->torch>=1.8.0->ultralytics) (3.27.7)\n",
      "Requirement already satisfied: lit in /opt/conda/lib/python3.10/site-packages (from triton==2.0.0->torch>=1.8.0->ultralytics) (17.0.4)\n",
      "Requirement already satisfied: six>=1.5 in /opt/conda/lib/python3.10/site-packages (from python-dateutil>=2.7->matplotlib>=3.3.0->ultralytics) (1.16.0)\n",
      "Requirement already satisfied: MarkupSafe>=2.0 in /opt/conda/lib/python3.10/site-packages (from jinja2->torch>=1.8.0->ultralytics) (2.1.3)\n",
      "Requirement already satisfied: mpmath>=0.19 in /opt/conda/lib/python3.10/site-packages (from sympy->torch>=1.8.0->ultralytics) (1.3.0)\n",
      "Downloading ultralytics-8.0.216-py3-none-any.whl (645 kB)\n",
      "\u001b[2K   \u001b[90m━━━━━━━━━━━━━━━━━━━━━━━━━━━━━━━━━━━━━━━━\u001b[0m \u001b[32m645.7/645.7 kB\u001b[0m \u001b[31m18.1 MB/s\u001b[0m eta \u001b[36m0:00:00\u001b[0m00:01\u001b[0m\n",
      "\u001b[?25hInstalling collected packages: py-cpuinfo, thop, ultralytics\n",
      "Successfully installed py-cpuinfo-9.0.0 thop-0.1.1.post2209072238 ultralytics-8.0.216\n"
     ]
    }
   ],
   "source": [
    "!pip install ultralytics\n",
    "import cv2"
   ]
  },
  {
   "cell_type": "code",
   "execution_count": 78,
   "id": "8f32748a-1886-469a-aa17-74c763e5c72c",
   "metadata": {
    "tags": []
   },
   "outputs": [
    {
     "name": "stdout",
     "output_type": "stream",
     "text": [
      "/home/jupyter/ultralytics/ultralytics\n"
     ]
    }
   ],
   "source": [
    "%cd /home/jupyter/ultralytics/ultralytics"
   ]
  },
  {
   "cell_type": "code",
   "execution_count": 79,
   "id": "6c1eede7-0c32-4db2-8412-0001534906e7",
   "metadata": {
    "tags": []
   },
   "outputs": [
    {
     "name": "stdout",
     "output_type": "stream",
     "text": [
      "/home/jupyter/ultralytics/ultralytics\n"
     ]
    }
   ],
   "source": [
    "!pwd"
   ]
  },
  {
   "cell_type": "code",
   "execution_count": 81,
   "id": "34729afc-cf9a-4231-8e4c-1b3c466724c6",
   "metadata": {
    "tags": []
   },
   "outputs": [],
   "source": [
    "# from ultralytics import YOLO\n",
    "\n",
    "# # Load a model\n",
    "# model = YOLO('yolov8s.yaml')  # build a new model from YAML\n",
    "# model = YOLO('yolov8s.pt')  # load a pretrained model (recommended for training)\n",
    "# model = YOLO('yolov8s.yaml').load('yolov8s.pt')  # build from YAML and transfer weights\n",
    "\n",
    "# # Train the model\n",
    "# results = model.train(data=dataYaml, epochs=200, imgsz=640, batch=32, workers=24)#, cache=True)"
   ]
  },
  {
   "cell_type": "code",
   "execution_count": 13,
   "id": "b19d5f74-51bb-42d5-90ec-e26c4cedf8e4",
   "metadata": {},
   "outputs": [
    {
     "name": "stdout",
     "output_type": "stream",
     "text": [
      "New https://pypi.org/project/ultralytics/8.0.217 available 😃 Update with 'pip install -U ultralytics'\n",
      "Ultralytics YOLOv8.0.216 🚀 Python-3.10.13 torch-2.0.0+cu118 CUDA:0 (NVIDIA A100-SXM4-40GB, 40338MiB)\n",
      "                                                             CUDA:1 (NVIDIA A100-SXM4-40GB, 40338MiB)\n",
      "                                                             CUDA:2 (NVIDIA A100-SXM4-40GB, 40338MiB)\n",
      "\u001b[34m\u001b[1mengine/trainer: \u001b[0mtask=detect, mode=train, model=yolov8x.pt, data=/home/jupyter/myData/data.yaml, epochs=350, patience=50, batch=3, imgsz=640, save=True, save_period=-1, cache=True, device=[0, 1, 2], workers=24, project=None, name=train4, exist_ok=False, pretrained=True, optimizer=auto, verbose=True, seed=0, deterministic=True, single_cls=False, rect=False, cos_lr=False, close_mosaic=10, resume=False, amp=True, fraction=1.0, profile=False, freeze=None, overlap_mask=True, mask_ratio=4, dropout=0.0, val=True, split=val, save_json=False, save_hybrid=False, conf=None, iou=0.7, max_det=300, half=False, dnn=False, plots=True, source=None, show=False, save_txt=False, save_conf=False, save_crop=False, show_labels=True, show_conf=True, vid_stride=1, stream_buffer=False, line_width=None, visualize=False, augment=False, agnostic_nms=False, classes=None, retina_masks=False, boxes=True, format=torchscript, keras=False, optimize=False, int8=False, dynamic=False, simplify=False, opset=None, workspace=4, nms=False, lr0=0.01, lrf=0.01, momentum=0.937, weight_decay=0.0005, warmup_epochs=3.0, warmup_momentum=0.8, warmup_bias_lr=0.1, box=7.5, cls=0.5, dfl=1.5, pose=12.0, kobj=1.0, label_smoothing=0.0, nbs=64, hsv_h=0.015, hsv_s=0.7, hsv_v=0.4, degrees=0.0, translate=0.1, scale=0.5, shear=0.0, perspective=0.0, flipud=0.0, fliplr=0.5, mosaic=1.0, mixup=0.0, copy_paste=0.0, cfg=None, tracker=botsort.yaml, save_dir=/home/jupyter/ultralytics/runs/detect/train4\n",
      "Overriding model.yaml nc=80 with nc=3\n",
      "\n",
      "                   from  n    params  module                                       arguments                     \n",
      "  0                  -1  1      2320  ultralytics.nn.modules.conv.Conv             [3, 80, 3, 2]                 \n",
      "  1                  -1  1    115520  ultralytics.nn.modules.conv.Conv             [80, 160, 3, 2]               \n",
      "  2                  -1  3    436800  ultralytics.nn.modules.block.C2f             [160, 160, 3, True]           \n",
      "  3                  -1  1    461440  ultralytics.nn.modules.conv.Conv             [160, 320, 3, 2]              \n",
      "  4                  -1  6   3281920  ultralytics.nn.modules.block.C2f             [320, 320, 6, True]           \n",
      "  5                  -1  1   1844480  ultralytics.nn.modules.conv.Conv             [320, 640, 3, 2]              \n",
      "  6                  -1  6  13117440  ultralytics.nn.modules.block.C2f             [640, 640, 6, True]           \n",
      "  7                  -1  1   3687680  ultralytics.nn.modules.conv.Conv             [640, 640, 3, 2]              \n",
      "  8                  -1  3   6969600  ultralytics.nn.modules.block.C2f             [640, 640, 3, True]           \n",
      "  9                  -1  1   1025920  ultralytics.nn.modules.block.SPPF            [640, 640, 5]                 \n",
      " 10                  -1  1         0  torch.nn.modules.upsampling.Upsample         [None, 2, 'nearest']          \n",
      " 11             [-1, 6]  1         0  ultralytics.nn.modules.conv.Concat           [1]                           \n",
      " 12                  -1  3   7379200  ultralytics.nn.modules.block.C2f             [1280, 640, 3]                \n",
      " 13                  -1  1         0  torch.nn.modules.upsampling.Upsample         [None, 2, 'nearest']          \n",
      " 14             [-1, 4]  1         0  ultralytics.nn.modules.conv.Concat           [1]                           \n",
      " 15                  -1  3   1948800  ultralytics.nn.modules.block.C2f             [960, 320, 3]                 \n",
      " 16                  -1  1    922240  ultralytics.nn.modules.conv.Conv             [320, 320, 3, 2]              \n",
      " 17            [-1, 12]  1         0  ultralytics.nn.modules.conv.Concat           [1]                           \n",
      " 18                  -1  3   7174400  ultralytics.nn.modules.block.C2f             [960, 640, 3]                 \n",
      " 19                  -1  1   3687680  ultralytics.nn.modules.conv.Conv             [640, 640, 3, 2]              \n",
      " 20             [-1, 9]  1         0  ultralytics.nn.modules.conv.Concat           [1]                           \n",
      " 21                  -1  3   7379200  ultralytics.nn.modules.block.C2f             [1280, 640, 3]                \n",
      " 22        [15, 18, 21]  1   8720857  ultralytics.nn.modules.head.Detect           [3, [320, 640, 640]]          \n",
      "Model summary: 365 layers, 68155497 parameters, 68155481 gradients, 258.1 GFLOPs\n",
      "\n",
      "Transferred 589/595 items from pretrained weights\n",
      "\u001b[34m\u001b[1mDDP:\u001b[0m debug command /opt/conda/bin/python3.10 -m torch.distributed.run --nproc_per_node 3 --master_port 38625 /home/jupyter/.config/Ultralytics/DDP/_temp_5gkhmd1p140530630601280.py\n",
      "WARNING:__main__:\n",
      "*****************************************\n",
      "Setting OMP_NUM_THREADS environment variable for each process to be 1 in default, to avoid your system being overloaded, please further tune the variable for optimal performance in your application as needed. \n",
      "*****************************************\n",
      "Ultralytics YOLOv8.0.216 🚀 Python-3.10.13 torch-2.0.0+cu118 CUDA:0 (NVIDIA A100-SXM4-40GB, 40338MiB)\n",
      "                                                             CUDA:1 (NVIDIA A100-SXM4-40GB, 40338MiB)\n",
      "                                                             CUDA:2 (NVIDIA A100-SXM4-40GB, 40338MiB)\n",
      "Overriding model.yaml nc=80 with nc=3\n",
      "Transferred 589/595 items from pretrained weights\n",
      "Freezing layer 'model.22.dfl.conv.weight'\n",
      "\u001b[34m\u001b[1mAMP: \u001b[0mrunning Automatic Mixed Precision (AMP) checks with YOLOv8n...\n",
      "\u001b[34m\u001b[1mAMP: \u001b[0mchecks passed ✅\n",
      "\u001b[34m\u001b[1mtrain: \u001b[0mScanning /home/jupyter/myData/train/labels.cache... 23532 images, 569 bac\u001b[0m\n",
      "\u001b[34m\u001b[1mtrain: \u001b[0mCaching images (15.5GB True): 100%|██████████| 24101/24101 [02:17<00:00, \u001b[0m\n",
      "\u001b[34m\u001b[1mval: \u001b[0mScanning /home/jupyter/myData/val/labels.cache... 3333 images, 0 background\u001b[0m\n",
      "\u001b[34m\u001b[1mval: \u001b[0mCaching images (2.1GB True): 100%|██████████| 3333/3333 [00:18<00:00, 176.7\u001b[0m\n",
      "Plotting labels to /home/jupyter/ultralytics/runs/detect/train4/labels.jpg... \n",
      "\u001b[34m\u001b[1moptimizer:\u001b[0m 'optimizer=auto' found, ignoring 'lr0=0.01' and 'momentum=0.937' and determining best 'optimizer', 'lr0' and 'momentum' automatically... \n",
      "\u001b[34m\u001b[1moptimizer:\u001b[0m SGD(lr=0.01, momentum=0.9) with parameter groups 97 weight(decay=0.0), 104 weight(decay=0.0004921875), 103 bias(decay=0.0)\n",
      "Image sizes 640 train, 640 val\n",
      "Using 0 dataloader workers\n",
      "Logging results to \u001b[1m/home/jupyter/ultralytics/runs/detect/train4\u001b[0m\n",
      "Starting training for 350 epochs...\n",
      "\n",
      "      Epoch    GPU_mem   box_loss   cls_loss   dfl_loss  Instances       Size\n",
      "      1/350       2.4G     0.9281      1.068      0.957         49        640: 1\n",
      "                 Class     Images  Instances      Box(P          R      mAP50  m\n",
      "                   all       3333      51017      0.823      0.765      0.851      0.677\n",
      "\n",
      "      Epoch    GPU_mem   box_loss   cls_loss   dfl_loss  Instances       Size\n",
      "      2/350      2.71G     0.9115       0.82     0.9377         15        640: 1\n",
      "                 Class     Images  Instances      Box(P          R      mAP50  m\n",
      "                   all       3333      51017      0.838      0.788      0.871      0.689\n",
      "\n",
      "      Epoch    GPU_mem   box_loss   cls_loss   dfl_loss  Instances       Size\n",
      "      3/350      2.43G     0.9567     0.8843     0.9547         51        640: 1\n",
      "                 Class     Images  Instances      Box(P          R      mAP50  m\n",
      "                   all       3333      51017      0.803      0.716      0.807      0.624\n",
      "\n",
      "      Epoch    GPU_mem   box_loss   cls_loss   dfl_loss  Instances       Size\n",
      "      4/350      2.42G     0.9686     0.9228     0.9647         14        640: 1\n",
      "                 Class     Images  Instances      Box(P          R      mAP50  m\n",
      "                   all       3333      51017      0.802      0.739      0.819      0.642\n",
      "\n",
      "      Epoch    GPU_mem   box_loss   cls_loss   dfl_loss  Instances       Size\n",
      "      5/350      2.43G     0.9342     0.8443      0.958         12        640:  "
     ]
    }
   ],
   "source": [
    "!yolo detect train data={dataYaml} model=yolov8x.pt epochs=350 imgsz=640 workers=24 batch=3 cache=True device=[0,1,2]"
   ]
  },
  {
   "cell_type": "code",
   "execution_count": null,
   "id": "3392ef97-c8df-47e5-8fd2-17408bf8b31a",
   "metadata": {},
   "outputs": [],
   "source": []
  }
 ],
 "metadata": {
  "environment": {
   "kernel": "python3",
   "name": ".m113",
   "type": "gcloud",
   "uri": "gcr.io/deeplearning-platform-release/:m113"
  },
  "kernelspec": {
   "display_name": "Python 3",
   "language": "python",
   "name": "python3"
  },
  "language_info": {
   "codemirror_mode": {
    "name": "ipython",
    "version": 3
   },
   "file_extension": ".py",
   "mimetype": "text/x-python",
   "name": "python",
   "nbconvert_exporter": "python",
   "pygments_lexer": "ipython3",
   "version": "3.10.13"
  }
 },
 "nbformat": 4,
 "nbformat_minor": 5
}
